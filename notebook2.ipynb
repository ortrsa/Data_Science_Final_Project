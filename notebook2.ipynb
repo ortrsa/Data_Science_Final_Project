{
 "cells": [
  {
   "cell_type": "markdown",
   "metadata": {},
   "source": [
    "# Notebook 2\n",
    "## in this nootbook we will work on cast.csv dataset and implement some basic python program"
   ]
  },
  {
   "cell_type": "code",
   "execution_count": 3,
   "metadata": {},
   "outputs": [
    {
     "name": "stdout",
     "output_type": "stream",
     "text": [
      "01111001\n"
     ]
    }
   ],
   "source": [
    "num = 121\n",
    "if(num%2 == 0):\n",
    "    ans = \"0\"\n",
    "else:\n",
    "    ans = \"1\"\n",
    "while num > 0:\n",
    "    num = int(num / 2)\n",
    "    ans = str(num%2) + ans\n",
    "\n",
    "print(ans)\n",
    "    \n",
    "\n",
    "\n",
    " \n",
    "    "
   ]
  },
  {
   "cell_type": "markdown",
   "metadata": {},
   "source": [
    "\n",
    "## import cast.csv"
   ]
  },
  {
   "cell_type": "code",
   "execution_count": 5,
   "metadata": {},
   "outputs": [
    {
     "data": {
      "text/html": [
       "<div>\n",
       "<style scoped>\n",
       "    .dataframe tbody tr th:only-of-type {\n",
       "        vertical-align: middle;\n",
       "    }\n",
       "\n",
       "    .dataframe tbody tr th {\n",
       "        vertical-align: top;\n",
       "    }\n",
       "\n",
       "    .dataframe thead th {\n",
       "        text-align: right;\n",
       "    }\n",
       "</style>\n",
       "<table border=\"1\" class=\"dataframe\">\n",
       "  <thead>\n",
       "    <tr style=\"text-align: right;\">\n",
       "      <th></th>\n",
       "      <th>title</th>\n",
       "      <th>year</th>\n",
       "      <th>name</th>\n",
       "      <th>type</th>\n",
       "      <th>character</th>\n",
       "      <th>n</th>\n",
       "    </tr>\n",
       "  </thead>\n",
       "  <tbody>\n",
       "    <tr>\n",
       "      <th>0</th>\n",
       "      <td>Suuri illusioni</td>\n",
       "      <td>1985</td>\n",
       "      <td>Homo $</td>\n",
       "      <td>actor</td>\n",
       "      <td>Guests</td>\n",
       "      <td>22.0</td>\n",
       "    </tr>\n",
       "    <tr>\n",
       "      <th>1</th>\n",
       "      <td>Gangsta Rap: The Glockumentary</td>\n",
       "      <td>2007</td>\n",
       "      <td>Too $hort</td>\n",
       "      <td>actor</td>\n",
       "      <td>Himself</td>\n",
       "      <td>NaN</td>\n",
       "    </tr>\n",
       "    <tr>\n",
       "      <th>2</th>\n",
       "      <td>Menace II Society</td>\n",
       "      <td>1993</td>\n",
       "      <td>Too $hort</td>\n",
       "      <td>actor</td>\n",
       "      <td>Lew-Loc</td>\n",
       "      <td>27.0</td>\n",
       "    </tr>\n",
       "    <tr>\n",
       "      <th>3</th>\n",
       "      <td>Porndogs: The Adventures of Sadie</td>\n",
       "      <td>2009</td>\n",
       "      <td>Too $hort</td>\n",
       "      <td>actor</td>\n",
       "      <td>Bosco</td>\n",
       "      <td>3.0</td>\n",
       "    </tr>\n",
       "    <tr>\n",
       "      <th>4</th>\n",
       "      <td>Stop Pepper Palmer</td>\n",
       "      <td>2014</td>\n",
       "      <td>Too $hort</td>\n",
       "      <td>actor</td>\n",
       "      <td>Himself</td>\n",
       "      <td>NaN</td>\n",
       "    </tr>\n",
       "  </tbody>\n",
       "</table>\n",
       "</div>"
      ],
      "text/plain": [
       "                               title  year       name   type character     n\n",
       "0                    Suuri illusioni  1985     Homo $  actor    Guests  22.0\n",
       "1     Gangsta Rap: The Glockumentary  2007  Too $hort  actor   Himself   NaN\n",
       "2                  Menace II Society  1993  Too $hort  actor   Lew-Loc  27.0\n",
       "3  Porndogs: The Adventures of Sadie  2009  Too $hort  actor     Bosco   3.0\n",
       "4                 Stop Pepper Palmer  2014  Too $hort  actor   Himself   NaN"
      ]
     },
     "execution_count": 5,
     "metadata": {},
     "output_type": "execute_result"
    }
   ],
   "source": [
    "import pandas as pd\n",
    "cast = pd.read_csv('data/cast.csv')\n",
    "cast.head()"
   ]
  },
  {
   "cell_type": "markdown",
   "metadata": {},
   "source": [
    "## Q1:"
   ]
  },
  {
   "cell_type": "code",
   "execution_count": 30,
   "metadata": {},
   "outputs": [
    {
     "name": "stdout",
     "output_type": "stream",
     "text": [
      "Ther are: 17 movies that have the title Hamlet.\n"
     ]
    }
   ],
   "source": [
    "Hamlet_filt = cast['title'] == 'Hamlet' # This filter find only Hamlet movie.\n",
    "Hamlet_drop =  cast[Hamlet_filt].drop_duplicates(subset = 'year', keep = 'first')\n",
    "Hamlet_count = Hamlet_drop['title'].count()\n",
    "print(\"Ther are:\", Hamlet_count ,\"movies that have the title Hamlet.\" )"
   ]
  },
  {
   "cell_type": "markdown",
   "metadata": {},
   "source": [
    "## Q2: \n",
    "### list of \"Treasure Island\" movies from earliest to most recent."
   ]
  },
  {
   "cell_type": "code",
   "execution_count": 24,
   "metadata": {},
   "outputs": [
    {
     "data": {
      "text/html": [
       "<div>\n",
       "<style scoped>\n",
       "    .dataframe tbody tr th:only-of-type {\n",
       "        vertical-align: middle;\n",
       "    }\n",
       "\n",
       "    .dataframe tbody tr th {\n",
       "        vertical-align: top;\n",
       "    }\n",
       "\n",
       "    .dataframe thead th {\n",
       "        text-align: right;\n",
       "    }\n",
       "</style>\n",
       "<table border=\"1\" class=\"dataframe\">\n",
       "  <thead>\n",
       "    <tr style=\"text-align: right;\">\n",
       "      <th></th>\n",
       "      <th>title</th>\n",
       "      <th>year</th>\n",
       "      <th>name</th>\n",
       "      <th>type</th>\n",
       "      <th>character</th>\n",
       "      <th>n</th>\n",
       "    </tr>\n",
       "  </thead>\n",
       "  <tbody>\n",
       "    <tr>\n",
       "      <th>1312766</th>\n",
       "      <td>Treasure Island</td>\n",
       "      <td>1918</td>\n",
       "      <td>Herschel Mayall</td>\n",
       "      <td>actor</td>\n",
       "      <td>Prologue Player</td>\n",
       "      <td>NaN</td>\n",
       "    </tr>\n",
       "    <tr>\n",
       "      <th>3280557</th>\n",
       "      <td>Treasure Island</td>\n",
       "      <td>1918</td>\n",
       "      <td>Eleanor Washington</td>\n",
       "      <td>actress</td>\n",
       "      <td>Prologue Player</td>\n",
       "      <td>NaN</td>\n",
       "    </tr>\n",
       "    <tr>\n",
       "      <th>3046750</th>\n",
       "      <td>Treasure Island</td>\n",
       "      <td>1918</td>\n",
       "      <td>Violet Radcliffe</td>\n",
       "      <td>actress</td>\n",
       "      <td>Long John Silver</td>\n",
       "      <td>3.0</td>\n",
       "    </tr>\n",
       "    <tr>\n",
       "      <th>1167783</th>\n",
       "      <td>Treasure Island</td>\n",
       "      <td>1918</td>\n",
       "      <td>Raymond Lee</td>\n",
       "      <td>actor</td>\n",
       "      <td>Bit Role</td>\n",
       "      <td>NaN</td>\n",
       "    </tr>\n",
       "    <tr>\n",
       "      <th>1195421</th>\n",
       "      <td>Treasure Island</td>\n",
       "      <td>1918</td>\n",
       "      <td>Elmo Lincoln</td>\n",
       "      <td>actor</td>\n",
       "      <td>Prologue Player</td>\n",
       "      <td>NaN</td>\n",
       "    </tr>\n",
       "    <tr>\n",
       "      <th>...</th>\n",
       "      <td>...</td>\n",
       "      <td>...</td>\n",
       "      <td>...</td>\n",
       "      <td>...</td>\n",
       "      <td>...</td>\n",
       "      <td>...</td>\n",
       "    </tr>\n",
       "    <tr>\n",
       "      <th>1663860</th>\n",
       "      <td>Treasure Island</td>\n",
       "      <td>1999</td>\n",
       "      <td>Victor Raider-Wexler</td>\n",
       "      <td>actor</td>\n",
       "      <td>Samowitz</td>\n",
       "      <td>10.0</td>\n",
       "    </tr>\n",
       "    <tr>\n",
       "      <th>1731182</th>\n",
       "      <td>Treasure Island</td>\n",
       "      <td>1999</td>\n",
       "      <td>Scot Thomas Robinson</td>\n",
       "      <td>actor</td>\n",
       "      <td>Jimmy</td>\n",
       "      <td>11.0</td>\n",
       "    </tr>\n",
       "    <tr>\n",
       "      <th>1813707</th>\n",
       "      <td>Treasure Island</td>\n",
       "      <td>1999</td>\n",
       "      <td>Richard Schave</td>\n",
       "      <td>actor</td>\n",
       "      <td>Man</td>\n",
       "      <td>21.0</td>\n",
       "    </tr>\n",
       "    <tr>\n",
       "      <th>2710458</th>\n",
       "      <td>Treasure Island</td>\n",
       "      <td>1999</td>\n",
       "      <td>Stephanie Ittleson</td>\n",
       "      <td>actress</td>\n",
       "      <td>Stella</td>\n",
       "      <td>7.0</td>\n",
       "    </tr>\n",
       "    <tr>\n",
       "      <th>815338</th>\n",
       "      <td>Treasure Island</td>\n",
       "      <td>1999</td>\n",
       "      <td>Rio Hackford</td>\n",
       "      <td>actor</td>\n",
       "      <td>Hans</td>\n",
       "      <td>23.0</td>\n",
       "    </tr>\n",
       "  </tbody>\n",
       "</table>\n",
       "<p>187 rows × 6 columns</p>\n",
       "</div>"
      ],
      "text/plain": [
       "                   title  year                  name     type  \\\n",
       "1312766  Treasure Island  1918       Herschel Mayall    actor   \n",
       "3280557  Treasure Island  1918    Eleanor Washington  actress   \n",
       "3046750  Treasure Island  1918      Violet Radcliffe  actress   \n",
       "1167783  Treasure Island  1918           Raymond Lee    actor   \n",
       "1195421  Treasure Island  1918          Elmo Lincoln    actor   \n",
       "...                  ...   ...                   ...      ...   \n",
       "1663860  Treasure Island  1999  Victor Raider-Wexler    actor   \n",
       "1731182  Treasure Island  1999  Scot Thomas Robinson    actor   \n",
       "1813707  Treasure Island  1999        Richard Schave    actor   \n",
       "2710458  Treasure Island  1999    Stephanie Ittleson  actress   \n",
       "815338   Treasure Island  1999          Rio Hackford    actor   \n",
       "\n",
       "                character     n  \n",
       "1312766   Prologue Player   NaN  \n",
       "3280557   Prologue Player   NaN  \n",
       "3046750  Long John Silver   3.0  \n",
       "1167783          Bit Role   NaN  \n",
       "1195421   Prologue Player   NaN  \n",
       "...                   ...   ...  \n",
       "1663860          Samowitz  10.0  \n",
       "1731182             Jimmy  11.0  \n",
       "1813707               Man  21.0  \n",
       "2710458            Stella   7.0  \n",
       "815338               Hans  23.0  \n",
       "\n",
       "[187 rows x 6 columns]"
      ]
     },
     "execution_count": 24,
     "metadata": {},
     "output_type": "execute_result"
    }
   ],
   "source": [
    "filt = cast['title'] == 'Treasure Island' # This filter find only Treasure Island movie.\n",
    "Treasure = cast[filt]\n",
    "Treasure.sort_values(by= 'year')"
   ]
  },
  {
   "cell_type": "markdown",
   "metadata": {},
   "source": [
    "## Q3: \n"
   ]
  },
  {
   "cell_type": "code",
   "execution_count": 25,
   "metadata": {},
   "outputs": [
    {
     "name": "stdout",
     "output_type": "stream",
     "text": [
      "roles were credited in the silent 1921 version of Hamlet 9\n"
     ]
    }
   ],
   "source": [
    "Hamlet = cast[Hamlet_filt] # use Hamlet_filt to find Hamlet movie.\n",
    "filt_2 = Hamlet['year'] == 1921 # this filter shows movies from 1921\n",
    "Hamlet21 = Hamlet[filt_2]\n",
    "Hamlet_roles = actor['name'].count()\n",
    "print( \"roles were credited in the silent 1921 version of Hamlet\" ,9 )"
   ]
  },
  {
   "cell_type": "markdown",
   "metadata": {},
   "source": [
    "## Q4:"
   ]
  },
  {
   "cell_type": "code",
   "execution_count": 42,
   "metadata": {},
   "outputs": [
    {
     "data": {
      "text/plain": [
       "year\n",
       "1910    3\n",
       "1920    1\n",
       "1940    1\n",
       "1950    1\n",
       "1960    2\n",
       "1970    2\n",
       "1980    1\n",
       "1990    2\n",
       "2000    2\n",
       "2010    2\n",
       "Name: title, dtype: int64"
      ]
     },
     "execution_count": 42,
     "metadata": {},
     "output_type": "execute_result"
    }
   ],
   "source": [
    "Hamlet_by_decade =Hamlet_drop.groupby(Hamlet_drop['year']//10*10) # Group by decade\n",
    "Hamlet_by_decade['title'].count()"
   ]
  },
  {
   "cell_type": "markdown",
   "metadata": {},
   "source": [
    "## Q5:"
   ]
  },
  {
   "cell_type": "code",
   "execution_count": 123,
   "metadata": {},
   "outputs": [
    {
     "name": "stdout",
     "output_type": "stream",
     "text": [
      "Number of available leading roles to actor: \n",
      "year\n",
      "1950    604\n",
      "1951    633\n",
      "1952    591\n",
      "1953    634\n",
      "1954    626\n",
      "1955    606\n",
      "1956    614\n",
      "1957    708\n",
      "1958    694\n",
      "1959    678\n",
      "Name: n, dtype: int64\n",
      "\n",
      "Number of available leading roles to actresses: \n",
      "year\n",
      "1950    271\n",
      "1951    272\n",
      "1952    284\n",
      "1953    290\n",
      "1954    298\n",
      "1955    264\n",
      "1956    288\n",
      "1957    284\n",
      "1958    275\n",
      "1959    287\n",
      "Name: n, dtype: int64\n"
     ]
    }
   ],
   "source": [
    "n = cast[cast['n']==1]\n",
    "n50 = n[(n['year'] < 1960) & (n['year'] > 1949)] # filter the 50's\n",
    "leading_roles = n50.groupby(['type', 'year'])['n'].count() # Make series of 2 series for actress and actors.\n",
    "print(\"Number of available leading roles to actor: \")\n",
    "print(leading_roles['actor'])\n",
    "print()\n",
    "print(\"Number of available leading roles to actresses: \")\n",
    "print(leading_roles['actress'])\n"
   ]
  },
  {
   "cell_type": "markdown",
   "metadata": {},
   "source": [
    "## Q6:"
   ]
  },
  {
   "cell_type": "code",
   "execution_count": 139,
   "metadata": {},
   "outputs": [
    {
     "data": {
      "text/plain": [
       "name\n",
       "Mohanlal              126\n",
       "Mammootty             118\n",
       "Akshay Kumar           87\n",
       "Jayaram                76\n",
       "Andy Lau               72\n",
       "Ajay Devgn             69\n",
       "Amitabh Bachchan       68\n",
       "Eric Roberts           68\n",
       "Nagarjuna Akkineni     60\n",
       "Dilip                  59\n",
       "Name: n, dtype: int64"
      ]
     },
     "execution_count": 139,
     "metadata": {},
     "output_type": "execute_result"
    }
   ],
   "source": [
    "n = cast[cast['n']==1]\n",
    "n90 = n[(n['year'] > 1989)] # filter from 90's\n",
    "n90.groupby(['name']).count().sort_values(by= 'n' , ascending= False).head(10)['n']"
   ]
  },
  {
   "cell_type": "markdown",
   "metadata": {},
   "source": [
    "## Q7:"
   ]
  },
  {
   "cell_type": "code",
   "execution_count": 184,
   "metadata": {},
   "outputs": [
    {
     "data": {
      "text/html": [
       "<div>\n",
       "<style scoped>\n",
       "    .dataframe tbody tr th:only-of-type {\n",
       "        vertical-align: middle;\n",
       "    }\n",
       "\n",
       "    .dataframe tbody tr th {\n",
       "        vertical-align: top;\n",
       "    }\n",
       "\n",
       "    .dataframe thead th {\n",
       "        text-align: right;\n",
       "    }\n",
       "</style>\n",
       "<table border=\"1\" class=\"dataframe\">\n",
       "  <thead>\n",
       "    <tr style=\"text-align: right;\">\n",
       "      <th></th>\n",
       "      <th></th>\n",
       "      <th>roles</th>\n",
       "    </tr>\n",
       "    <tr>\n",
       "      <th>year</th>\n",
       "      <th>title</th>\n",
       "      <th></th>\n",
       "    </tr>\n",
       "  </thead>\n",
       "  <tbody>\n",
       "    <tr>\n",
       "      <th>1979</th>\n",
       "      <th>The Muppet Movie</th>\n",
       "      <td>8</td>\n",
       "    </tr>\n",
       "    <tr>\n",
       "      <th rowspan=\"2\" valign=\"top\">1981</th>\n",
       "      <th>An American Werewolf in London</th>\n",
       "      <td>2</td>\n",
       "    </tr>\n",
       "    <tr>\n",
       "      <th>The Great Muppet Caper</th>\n",
       "      <td>6</td>\n",
       "    </tr>\n",
       "    <tr>\n",
       "      <th>1982</th>\n",
       "      <th>The Dark Crystal</th>\n",
       "      <td>2</td>\n",
       "    </tr>\n",
       "    <tr>\n",
       "      <th>1984</th>\n",
       "      <th>The Muppets Take Manhattan</th>\n",
       "      <td>7</td>\n",
       "    </tr>\n",
       "    <tr>\n",
       "      <th>1985</th>\n",
       "      <th>Sesame Street Presents: Follow that Bird</th>\n",
       "      <td>3</td>\n",
       "    </tr>\n",
       "    <tr>\n",
       "      <th>1992</th>\n",
       "      <th>The Muppet Christmas Carol</th>\n",
       "      <td>7</td>\n",
       "    </tr>\n",
       "    <tr>\n",
       "      <th>1996</th>\n",
       "      <th>Muppet Treasure Island</th>\n",
       "      <td>4</td>\n",
       "    </tr>\n",
       "    <tr>\n",
       "      <th rowspan=\"2\" valign=\"top\">1999</th>\n",
       "      <th>Muppets from Space</th>\n",
       "      <td>4</td>\n",
       "    </tr>\n",
       "    <tr>\n",
       "      <th>The Adventures of Elmo in Grouchland</th>\n",
       "      <td>3</td>\n",
       "    </tr>\n",
       "  </tbody>\n",
       "</table>\n",
       "</div>"
      ],
      "text/plain": [
       "                                               roles\n",
       "year title                                          \n",
       "1979 The Muppet Movie                              8\n",
       "1981 An American Werewolf in London                2\n",
       "     The Great Muppet Caper                        6\n",
       "1982 The Dark Crystal                              2\n",
       "1984 The Muppets Take Manhattan                    7\n",
       "1985 Sesame Street Presents: Follow that Bird      3\n",
       "1992 The Muppet Christmas Carol                    7\n",
       "1996 Muppet Treasure Island                        4\n",
       "1999 Muppets from Space                            4\n",
       "     The Adventures of Elmo in Grouchland          3"
      ]
     },
     "execution_count": 184,
     "metadata": {},
     "output_type": "execute_result"
    }
   ],
   "source": [
    "FO = cast[cast['name'] == 'Frank Oz'] # All of Frank movies.\n",
    "FO_sort = FO.sort_values('year')# Sort by years.\n",
    "ans = FO_sort.groupby(['year', 'title']).count() \n",
    "ans = ans[ans['name']!=1] # filter all the films the Frank played one's.\n",
    "ans_n = ans.loc[:, ['n']] # Take random colum and all the rows.\n",
    "ans_rename = ans_n.rename(columns = {'n': 'roles'}, inplace = False) # Change the name of this colum.\n",
    "ans_rename"
   ]
  }
 ],
 "metadata": {
  "kernelspec": {
   "display_name": "Python 3",
   "language": "python",
   "name": "python3"
  },
  "language_info": {
   "codemirror_mode": {
    "name": "ipython",
    "version": 3
   },
   "file_extension": ".py",
   "mimetype": "text/x-python",
   "name": "python",
   "nbconvert_exporter": "python",
   "pygments_lexer": "ipython3",
   "version": "3.8.3"
  }
 },
 "nbformat": 4,
 "nbformat_minor": 4
}
