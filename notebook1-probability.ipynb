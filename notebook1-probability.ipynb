{
 "cells": [
  {
   "cell_type": "markdown",
   "metadata": {},
   "source": [
    "# Notebook 1 - probability:"
   ]
  },
  {
   "cell_type": "markdown",
   "metadata": {},
   "source": [
    "In this notebook we answered some probability questions with Bayes' theorem."
   ]
  },
  {
   "cell_type": "markdown",
   "metadata": {},
   "source": [
    "## Q1:"
   ]
  },
  {
   "cell_type": "markdown",
   "metadata": {},
   "source": [
    "## a."
   ]
  },
  {
   "cell_type": "markdown",
   "metadata": {},
   "source": [
    " We will need to calculate the probability with bayes theorem: $$P(identical|twins) = \\frac{P(identical \\cap twins)}{P(twins)}$$"
   ]
  },
  {
   "cell_type": "code",
   "execution_count": 14,
   "metadata": {},
   "outputs": [
    {
     "name": "stdout",
     "output_type": "stream",
     "text": [
      "The answer is: 0.29411764705882354\n"
     ]
    }
   ],
   "source": [
    "twins = (1/300)+(1/125) # Twins mast be identical or not\n",
    "identical_twins = (1/300) \n",
    "ans = identical_twins/twins\n",
    "print(\"The answer is:\", ans)"
   ]
  },
  {
   "cell_type": "markdown",
   "metadata": {},
   "source": [
    "## b."
   ]
  },
  {
   "cell_type": "markdown",
   "metadata": {},
   "source": [
    "The probability of choosing a cookie from each bowl:  \n",
    "\n",
    "|              | Chocolate | Almond  |\n",
    "| -------------|:-----:|:-----:|\n",
    "| **Bowl 1**    | 30/40 | 10/40 |\n",
    "| **Bowl 2**    | 20/40 | 20/40 | "
   ]
  },
  {
   "cell_type": "markdown",
   "metadata": {},
   "source": [
    "$$P(Bowl 1|Chocolate) = \\frac{P(Bowl 1 \\cap Chocolate)}{P(Chocolate)}$$"
   ]
  },
  {
   "cell_type": "code",
   "execution_count": 17,
   "metadata": {},
   "outputs": [
    {
     "name": "stdout",
     "output_type": "stream",
     "text": [
      "The answer is: 0.6\n"
     ]
    }
   ],
   "source": [
    "Chocolate_B1 = 0.5*30/40 # First choose the bowl and after that choose the chocolate Cookie.\n",
    "Chocolate = 0.5*(30/40) + 0.5*(20/40)# Choosing chocolate from each bowl\n",
    "ans = Chocolate_B1/Chocolate\n",
    "print(\"The answer is:\", ans)"
   ]
  },
  {
   "cell_type": "markdown",
   "metadata": {},
   "source": [
    "# Q2:"
   ]
  },
  {
   "cell_type": "markdown",
   "metadata": {},
   "source": [
    "The probability of choosing a yellow from each bowl:  \n",
    "\n",
    "|              | yellow | \n",
    "| -------------|:-----: |\n",
    "| **Bagl 1**    | 20/100| \n",
    "| **Bagl 2**    | 14/100| "
   ]
  },
  {
   "cell_type": "markdown",
   "metadata": {},
   "source": [
    "$$P(Bagl 1|yellow) = \\frac{P(Bagl 1 \\cap yellow)}{P(yellow)}$$"
   ]
  },
  {
   "cell_type": "code",
   "execution_count": 19,
   "metadata": {},
   "outputs": [
    {
     "name": "stdout",
     "output_type": "stream",
     "text": [
      "The answer is: 0.5882352941176471\n"
     ]
    }
   ],
   "source": [
    "yellow = (0.5*0.2) + (0.5*(14/100)) # We can choose yellow from bag1 or from bag2 \n",
    "yellow_bag1 = (0.2*0.5) # Choosing bag1 and yellow\n",
    "ans = yellow_bag1/yellow\n",
    "print(\"The answer is:\", ans)"
   ]
  },
  {
   "cell_type": "markdown",
   "metadata": {},
   "source": [
    "## Q3:"
   ]
  },
  {
   "cell_type": "markdown",
   "metadata": {},
   "source": [
    "## a and b."
   ]
  },
  {
   "attachments": {},
   "cell_type": "markdown",
   "metadata": {},
   "source": [
    "We need to use bayes theorem to check probably of true positive given positive.  \n",
    "TP = True Positive  \n",
    "P = Positive  \n",
    "$$P(TP|P) = \\frac{P(P|TP)P(TP)}{P(P)}$$"
   ]
  },
  {
   "cell_type": "code",
   "execution_count": 34,
   "metadata": {},
   "outputs": [
    {
     "name": "stdout",
     "output_type": "stream",
     "text": [
      "The answer is: 0.009901970492127933\n",
      "The answer is: 0.33444816053511706\n"
     ]
    }
   ],
   "source": [
    "sick = [1/10000 , 1/200] # The only different between a and b is the probability to be sice!\n",
    "for i in sick:\n",
    "    positive = i + (1-i)*1/100 # True positive or false positive \n",
    "    TP = i/positive # TP is always right, if P(TP = true) you are sick! so 𝑃(𝑃|𝑇𝑃) = 1. and 𝑃(𝑇𝑃) = i.\n",
    "    print(\"The answer is:\", TP)"
   ]
  },
  {
   "cell_type": "markdown",
   "metadata": {},
   "source": [
    "# Random Variables:"
   ]
  },
  {
   "cell_type": "markdown",
   "metadata": {},
   "source": [
    "## Q1:"
   ]
  },
  {
   "cell_type": "markdown",
   "metadata": {},
   "source": [
    "To answer this questions we will need to use expected value formula:  \n",
    "$$E(x) = \\sum_{i=1}^n P(xi) \\bullet xi$$  \n",
    "While $X$ is non-negative random variable with probabilities $P$."
   ]
  },
  {
   "cell_type": "code",
   "execution_count": 39,
   "metadata": {},
   "outputs": [
    {
     "name": "stdout",
     "output_type": "stream",
     "text": [
      "The expected value is: 0.0\n"
     ]
    }
   ],
   "source": [
    "# From 2 six-sided dice we can get 36 outcomes (6*6) but only 12 of them divided by 3 so the probability is:\n",
    "P = 12/36\n",
    "_P = 1-P\n",
    "ans = P*6 + _P*(-3)\n",
    "print(\"The expected value is:\", ans)"
   ]
  },
  {
   "cell_type": "markdown",
   "metadata": {},
   "source": [
    "# Q2:"
   ]
  },
  {
   "cell_type": "markdown",
   "metadata": {},
   "source": [
    "To answer this questions we will need to use expected value formula:  \n",
    "$$E(x) = \\sum_{i=1}^n P(xi) \\bullet xi$$  \n",
    "We have total of 25 options (5*5), 4 of them are exactly 12, 6 of them greater then 12 and 15 are less than 12!"
   ]
  },
  {
   "cell_type": "code",
   "execution_count": 48,
   "metadata": {},
   "outputs": [
    {
     "name": "stdout",
     "output_type": "stream",
     "text": [
      "The expected value is: -2.3999999999999995\n"
     ]
    }
   ],
   "source": [
    "eq = 4/25 # (5,7), (4,8), (3,9), (2,10)\n",
    "gt = 6/25 #(5,8), (5,9) , (5,9) , (5,10) , (4,9) , (4,10) , (3,10)\n",
    "lt = 15/25 # 1-(eq+gt) \n",
    "\n",
    "ans = 5*gt + (-6)*lt + eq*0\n",
    "print(\"The expected value is:\", ans)"
   ]
  },
  {
   "cell_type": "markdown",
   "metadata": {},
   "source": [
    "# Q3:"
   ]
  },
  {
   "cell_type": "markdown",
   "metadata": {},
   "source": [
    "The mean is given by $\\sum xP(x)$, where the sum is taken over all possible values of the random variable and $P(x)$ is the probability mass function.\n",
    "\n",
    "$$\\mu =\\sum xp(x)$$"
   ]
  },
  {
   "cell_type": "markdown",
   "metadata": {},
   "source": [
    "The standard deviation $σ$ of $X$ is defined as $\\sigma = \\sqrt{\\frac{1}{n} \\sum_{i=1}^n (x_i - \\overline{x})^2}$ where $\\overline{x} = \\mu$\n",
    "\n"
   ]
  },
  {
   "cell_type": "code",
   "execution_count": 63,
   "metadata": {},
   "outputs": [
    {
     "name": "stdout",
     "output_type": "stream",
     "text": [
      "The mean is: 3.2\n",
      "The standard deviation is: 2.7030846576951055\n"
     ]
    }
   ],
   "source": [
    "mu = 0.4*8 # 40% are male!\n",
    "print(\"The mean is:\" , mu)\n",
    "\n",
    "ans =  0                                 \n",
    "X = range(0,9) # There are 9 options (no male at all , 1-7 male or all of the choosens are males)\n",
    "for i in X: \n",
    "    ans += (i - mu)**2   \n",
    "ans = ans / 9\n",
    "ans = ans**0.5\n",
    "print(\"The standard deviation is:\" , ans)"
   ]
  },
  {
   "cell_type": "markdown",
   "metadata": {},
   "source": [
    "# Q4:"
   ]
  },
  {
   "attachments": {
    "image.png": {
     "image/png": "[encoded data removed]"
    }
   },
   "cell_type": "markdown",
   "metadata": {},
   "source": [
    "Plot of normal distribution where $\\sigma$ = standard deviation :\n",
    "![image.png](attachment:image.png)"
   ]
  },
  {
   "cell_type": "markdown",
   "metadata": {},
   "source": [
    "We can see that the mean is $26$ and $30 = 26 + 2\\sigma$  "
   ]
  },
  {
   "cell_type": "code",
   "execution_count": 64,
   "metadata": {},
   "outputs": [
    {
     "name": "stdout",
     "output_type": "stream",
     "text": [
      "The answer is: 0.47700000000000004\n"
     ]
    }
   ],
   "source": [
    "p_26_28 = 0.341 # mean -> STD*1\n",
    "p_28_30 = 0.136 # STD*1 -> STD*2\n",
    "p_26_30 = p_26_28 + p_28_30# mean -> STD*2\n",
    "print(\"The answer is:\", p_26_30)"
   ]
  },
  {
   "cell_type": "markdown",
   "metadata": {},
   "source": [
    "# Q5:"
   ]
  },
  {
   "cell_type": "markdown",
   "metadata": {},
   "source": [
    "Notice that $P(3)=0.4$ and $P(5)=0$.   \n",
    "Let us calculation the area of the triangle below the line connecting $P(3)$ and $P(5)$."
   ]
  },
  {
   "cell_type": "code",
   "execution_count": 68,
   "metadata": {},
   "outputs": [
    {
     "name": "stdout",
     "output_type": "stream",
     "text": [
      "The answer is: 0.4\n"
     ]
    }
   ],
   "source": [
    "h = 0.4\n",
    "l = 2\n",
    "ans = (h*l)/2\n",
    "print(\"The answer is:\", ans)"
   ]
  },
  {
   "cell_type": "markdown",
   "metadata": {},
   "source": [
    "# Q6:"
   ]
  },
  {
   "cell_type": "code",
   "execution_count": null,
   "metadata": {},
   "outputs": [],
   "source": []
  },
  {
   "cell_type": "markdown",
   "metadata": {},
   "source": [
    "# Q7:"
   ]
  },
  {
   "cell_type": "markdown",
   "metadata": {},
   "source": [
    "To answer this questions we will need to use expected value formula:  \n",
    "$$E(x) = \\sum_{i=1}^n P(xi) \\bullet xi$$  \n",
    "While $X$ is non-negative random variable with probabilities $P$.\n"
   ]
  },
  {
   "cell_type": "code",
   "execution_count": 80,
   "metadata": {},
   "outputs": [
    {
     "name": "stdout",
     "output_type": "stream",
     "text": [
      "The answer is: 0.0\n"
     ]
    }
   ],
   "source": [
    "var_prob = {\n",
    "    -10 : 0.1,\n",
    "    -5 : 0.35,\n",
    "    0 : 0.1,\n",
    "    5 : 0.35,\n",
    "    10 : 0.1\n",
    "}\n",
    "ans =0\n",
    "for i in var_prob:\n",
    "    ans += var_prob[i]*i\n",
    "print(\"The answer is:\", ans)"
   ]
  },
  {
   "cell_type": "code",
   "execution_count": null,
   "metadata": {},
   "outputs": [],
   "source": []
  },
  {
   "cell_type": "code",
   "execution_count": null,
   "metadata": {},
   "outputs": [],
   "source": []
  }
 ],
 "metadata": {
  "kernelspec": {
   "display_name": "Python 3",
   "language": "python",
   "name": "python3"
  },
  "language_info": {
   "codemirror_mode": {
    "name": "ipython",
    "version": 3
   },
   "file_extension": ".py",
   "mimetype": "text/x-python",
   "name": "python",
   "nbconvert_exporter": "python",
   "pygments_lexer": "ipython3",
   "version": "3.8.3"
  }
 },
 "nbformat": 4,
 "nbformat_minor": 4
}
